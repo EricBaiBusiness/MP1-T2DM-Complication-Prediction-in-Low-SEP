{
 "cells": [
  {
   "cell_type": "code",
   "execution_count": 8,
   "metadata": {},
   "outputs": [],
   "source": [
    "from google.cloud import storage"
   ]
  },
  {
   "cell_type": "code",
   "execution_count": 9,
   "metadata": {},
   "outputs": [],
   "source": [
    "import os\n",
    "os.environ[\"GOOGLE_APPLICATION_CREDENTIALS\"] = \"/Users/hakukazuho/Desktop/Keys/MP1_GCS_ServiceCount/EricBai's GCS Service Account Key.json\""
   ]
  },
  {
   "cell_type": "code",
   "execution_count": 10,
   "metadata": {},
   "outputs": [],
   "source": [
    "def download_blob(bucket_name, source_blob_name, destination_file_name):\n",
    "    storage_client = storage.Client()\n",
    "\n",
    "    bucket = storage_client.bucket(bucket_name)\n",
    "\n",
    "    blob = bucket.blob(source_blob_name)\n",
    "    blob.download_to_filename(destination_file_name)\n",
    "\n",
    "    print(f\"Downloaded {source_blob_name} from {bucket_name} to {destination_file_name}.\")"
   ]
  },
  {
   "cell_type": "code",
   "execution_count": 11,
   "metadata": {},
   "outputs": [
    {
     "name": "stdout",
     "output_type": "stream",
     "text": [
      "Downloaded dataset_2023.csv from cdc_brfss_2023_test to data_2023.csv.\n"
     ]
    }
   ],
   "source": [
    "bucket_name = 'cdc_brfss_2023_test'  # GCS bucket name\n",
    "source_blob_name = 'dataset_2023.csv'  # Path to your file in the GCS bucket\n",
    "destination_file_name = 'data_2023.csv'  # Local file name to save as\n",
    "\n",
    "download_blob(bucket_name, source_blob_name, destination_file_name)"
   ]
  },
  {
   "cell_type": "code",
   "execution_count": 6,
   "metadata": {},
   "outputs": [
    {
     "name": "stdout",
     "output_type": "stream",
     "text": [
      "error: cannot pull with rebase: You have unstaged changes.\n",
      "error: please commit or stash them.\n",
      "Enumerating objects: 13, done.\n",
      "Counting objects: 100% (13/13), done.\n",
      "Delta compression using up to 8 threads\n",
      "Compressing objects: 100% (12/12), done.\n",
      "Writing objects: 100% (12/12), 5.93 KiB | 5.93 MiB/s, done.\n",
      "Total 12 (delta 4), reused 0 (delta 0), pack-reused 0\n",
      "remote: Resolving deltas: 100% (4/4), done.\u001b[K\n",
      "remote: \u001b[1;31merror\u001b[m: GH013: Repository rule violations found for refs/heads/Data-Cleaning.\u001b[K\n",
      "remote: \n",
      "remote: - GITHUB PUSH PROTECTION\u001b[K\n",
      "remote:   —————————————————————————————————————————\u001b[K\n",
      "remote:     Resolve the following violations before pushing again\u001b[K\n",
      "remote: \n",
      "remote:     - Push cannot contain secrets\u001b[K\n",
      "remote: \n",
      "remote:     \u001b[K\n",
      "remote:      (?) Learn how to resolve a blocked push\u001b[K\n",
      "remote:      https://docs.github.com/code-security/secret-scanning/working-with-secret-scanning-and-push-protection/working-with-push-protection-from-the-command-line#resolving-a-blocked-push\u001b[K\n",
      "remote:     \u001b[K\n",
      "remote:     \u001b[K\n",
      "remote:       —— GitHub Personal Access Token ——————————————————————\u001b[K\n",
      "remote:        locations:\u001b[K\n",
      "remote:          - commit: 875dc2abb579b0502db779ba3e28ccc9d0f634ca\u001b[K\n",
      "remote:            path: colab_guidance.ipynb:191\u001b[K\n",
      "remote:          - commit: 875dc2abb579b0502db779ba3e28ccc9d0f634ca\u001b[K\n",
      "remote:            path: colab_guidance_eric.ipynb:17\u001b[K\n",
      "remote:          - commit: b060fdb8683f96a00d6ab8a16048ab2a70aa0eb2\u001b[K\n",
      "remote:            path: get_data_from_gcs.ipynb:20\u001b[K\n",
      "remote:     \u001b[K\n",
      "remote:        (?) To push, remove secret from commit(s) or follow this URL to allow the secret.\u001b[K\n",
      "remote:        https://github.com/EricBaiBusiness/MP1-T2DM-Complication-Prediction-in-Low-SEP/security/secret-scanning/unblock-secret/2nO9FQg0LgdeEZ22B6SVXoq1Zkl\u001b[K\n",
      "remote:     \u001b[K\n",
      "remote: \n",
      "remote: \n",
      "To https://github.com/EricBaiBusiness/MP1-T2DM-Complication-Prediction-in-Low-SEP\n",
      " \u001b[31m! [remote rejected]\u001b[m Data-Cleaning -> Data-Cleaning (push declined due to repository rule violations)\n",
      "\u001b[31merror: failed to push some refs to 'https://github.com/EricBaiBusiness/MP1-T2DM-Complication-Prediction-in-Low-SEP'\n",
      "\u001b[m"
     ]
    }
   ],
   "source": [
    "!git pull --rebase origin Data-Cleaning\n",
    "!git push origin Data-Cleaning --force"
   ]
  },
  {
   "cell_type": "code",
   "execution_count": null,
   "metadata": {},
   "outputs": [],
   "source": []
  }
 ],
 "metadata": {
  "kernelspec": {
   "display_name": ".venv",
   "language": "python",
   "name": "python3"
  },
  "language_info": {
   "codemirror_mode": {
    "name": "ipython",
    "version": 3
   },
   "file_extension": ".py",
   "mimetype": "text/x-python",
   "name": "python",
   "nbconvert_exporter": "python",
   "pygments_lexer": "ipython3",
   "version": "3.11.4"
  }
 },
 "nbformat": 4,
 "nbformat_minor": 2
}
