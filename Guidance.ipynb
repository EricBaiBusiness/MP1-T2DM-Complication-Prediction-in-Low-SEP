{
  "nbformat": 4,
  "nbformat_minor": 0,
  "metadata": {
    "colab": {
      "provenance": []
    },
    "kernelspec": {
      "name": "python3",
      "display_name": "Python 3"
    },
    "language_info": {
      "name": "python"
    }
  },
  "cells": [
    {
      "cell_type": "code",
      "source": [
        "!pip install --upgrade google-cloud-storage\n",
        "!pip install --upgrade google-cloud-bigquery\n",
        "\n",
        "from google.colab import auth\n",
        "from google.cloud import storage\n",
        "import pandas as pd"
      ],
      "metadata": {
        "id": "09nneXNB-72P"
      },
      "execution_count": null,
      "outputs": []
    },
    {
      "cell_type": "code",
      "source": [
        "auth.authenticate_user()\n",
        "\n",
        "client = storage.Client()\n",
        "\n",
        "bucket_name = 'cdc_brfss_2023_test' # Change bucket name according to GCS if needed\n",
        "bucket = client.bucket(bucket_name)\n",
        "\n",
        "file_name = 'dataset_2023.csv' # Change file name according to GCS if needed\n",
        "blob = bucket.blob(file_name)\n",
        "blob.download_to_filename('local_filename.csv') # Change file name to your liking\n",
        "\n",
        "df = pd.read_csv('local_filename.csv')\n",
        "df.shape"
      ],
      "metadata": {
        "id": "E0aBIN6f_B-p"
      },
      "execution_count": null,
      "outputs": []
    },
    {
      "cell_type": "code",
      "source": [],
      "metadata": {
        "id": "V194DU6q-Raj",
        "colab": {
          "base_uri": "https://localhost:8080/"
        },
        "outputId": "0a62c626-56c7-4b9d-af95-4645902b82d6"
      },
      "execution_count": null,
      "outputs": [
        {
          "output_type": "execute_result",
          "data": {
            "text/plain": [
              "(433323, 350)"
            ]
          },
          "metadata": {},
          "execution_count": 8
        }
      ]
    },
    {
      "cell_type": "code",
      "source": [],
      "metadata": {
        "id": "Qgw-tOyg_8BD"
      },
      "execution_count": null,
      "outputs": []
    }
  ]
}